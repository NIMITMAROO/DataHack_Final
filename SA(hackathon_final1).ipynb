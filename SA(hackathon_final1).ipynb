{
  "nbformat": 4,
  "nbformat_minor": 0,
  "metadata": {
    "colab": {
      "provenance": []
    },
    "kernelspec": {
      "name": "python3",
      "display_name": "Python 3"
    },
    "language_info": {
      "name": "python"
    }
  },
  "cells": [
    {
      "cell_type": "code",
      "execution_count": 103,
      "metadata": {
        "id": "2ilVScq6-ZIY"
      },
      "outputs": [],
      "source": [
        "import pandas as pd\n",
        "import numpy as np\n",
        "import matplotlib.pyplot as plt\n",
        "import seaborn as sns\n",
        "from sklearn.model_selection import train_test_split\n",
        "from sklearn.linear_model import LinearRegression\n",
        "from sklearn.metrics import mean_squared_error, r2_score\n",
        "from sklearn.model_selection import train_test_split, GridSearchCV\n",
        "from sklearn.preprocessing import StandardScaler, OneHotEncoder\n",
        "from sklearn.compose import ColumnTransformer\n",
        "from sklearn.pipeline import Pipeline\n",
        "from sklearn.ensemble import RandomForestClassifier\n",
        "from sklearn.metrics import roc_auc_score"
      ]
    },
    {
      "cell_type": "code",
      "source": [
        "path = '/content/drive/MyDrive/DATASET/dataset and all/test_set_features.csv'\n",
        "df_test = pd.read_csv(path)\n"
      ],
      "metadata": {
        "id": "_QJBKgOFk8ho"
      },
      "execution_count": null,
      "outputs": []
    },
    {
      "cell_type": "code",
      "source": [
        "df_test['age_group'] = df_test['age_group'].replace({'18 - 34 Years': 1, '35 - 44 Years': 2, '45 - 54 Years': 3,'55 - 64 Years':4,'65+ Years':5})\n",
        "df_test['education']  = df_test['education'].replace({'< 12 Years': 1, '12 Years': 2, 'Some College': 3,'College Graduate':4})\n",
        "df_test['income_poverty'] = df_test['income_poverty'].replace({'<= $75,000, Above Poverty':3,'> $75,000':2,'Below Poverty':1})"
      ],
      "metadata": {
        "id": "aH0FmMhIBQYv"
      },
      "execution_count": 105,
      "outputs": []
    },
    {
      "cell_type": "code",
      "source": [
        "cols_to_use  = ['respondent_id', 'xyz_concern', 'xyz_knowledge',\n",
        "       'behavioral_antiviral_meds', 'behavioral_avoidance',\n",
        "       'behavioral_face_mask', 'behavioral_wash_hands',\n",
        "       'behavioral_large_gatherings', 'behavioral_outside_home',\n",
        "       'behavioral_touch_face', 'doctor_recc_xyz', 'doctor_recc_seasonal',\n",
        "       'chronic_med_condition', 'child_under_6_months', 'health_worker',\n",
        "       'health_insurance', 'opinion_xyz_vacc_effective', 'opinion_xyz_risk',\n",
        "       'opinion_xyz_sick_from_vacc', 'opinion_seas_vacc_effective',\n",
        "       'opinion_seas_risk', 'opinion_seas_sick_from_vacc', 'age_group',\n",
        "       'education', 'income_poverty',\n",
        "       'household_adults', 'household_children',\n",
        "      ]\n",
        "df_test1 = df_test[cols_to_use]"
      ],
      "metadata": {
        "id": "Yz0TyDOeBmo-"
      },
      "execution_count": 106,
      "outputs": []
    },
    {
      "cell_type": "code",
      "source": [
        "ordinal_features = [\n",
        "    'xyz_concern',\n",
        "    'xyz_knowledge',\n",
        "    'opinion_xyz_vacc_effective',\n",
        "    'opinion_xyz_risk',\n",
        "    'opinion_xyz_sick_from_vacc',\n",
        "    'opinion_seas_vacc_effective',\n",
        "    'opinion_seas_risk',\n",
        "    'opinion_seas_sick_from_vacc',\n",
        "    'age_group',\n",
        "    'income_poverty','education'\n",
        "]\n",
        "for var in ordinal_features:\n",
        "    median = df_test1[var].median()\n",
        "    df_test1[var].fillna(median, inplace=True)\n",
        "\n"
      ],
      "metadata": {
        "id": "kr0-DmWiCLmo"
      },
      "execution_count": null,
      "outputs": []
    },
    {
      "cell_type": "code",
      "source": [
        "binary_variables = [\n",
        "    'behavioral_antiviral_meds', 'behavioral_avoidance', 'behavioral_face_mask',\n",
        "    'behavioral_wash_hands', 'behavioral_large_gatherings', 'behavioral_outside_home',\n",
        "    'behavioral_touch_face', 'doctor_recc_xyz', 'doctor_recc_seasonal', 'chronic_med_condition',\n",
        "    'child_under_6_months', 'health_worker', 'health_insurance',\n",
        "    'household_adults', 'household_children'\n",
        "]\n",
        "for var in binary_variables:\n",
        "    mode = df_test1[var].mode()[0]\n",
        "    df_test1[var].fillna(mode, inplace=True)\n",
        "\n"
      ],
      "metadata": {
        "id": "Mm0Q0El6D0cM"
      },
      "execution_count": null,
      "outputs": []
    },
    {
      "cell_type": "code",
      "source": [
        "df_test1.isnull().sum()"
      ],
      "metadata": {
        "id": "Cn5XDSLBJyDM"
      },
      "execution_count": null,
      "outputs": []
    },
    {
      "cell_type": "code",
      "source": [
        "df_test3 = pd.get_dummies(df_test1, drop_first=True)"
      ],
      "metadata": {
        "id": "Z4MbJhz8CUIv"
      },
      "execution_count": 115,
      "outputs": []
    },
    {
      "cell_type": "code",
      "source": [
        "X_test21 = df_test3.drop(columns=['respondent_id'])"
      ],
      "metadata": {
        "id": "f8WJM0D7CY7W"
      },
      "execution_count": 116,
      "outputs": []
    },
    {
      "cell_type": "code",
      "source": [
        "train = '/content/drive/MyDrive/DATASET/dataset and all/training_set_features.csv'\n",
        "df  = pd.read_csv(train)"
      ],
      "metadata": {
        "id": "Wbnevo0X-iwx"
      },
      "execution_count": 65,
      "outputs": []
    },
    {
      "cell_type": "code",
      "source": [
        "train_out = '/content/drive/MyDrive/DATASET/dataset and all/training_set_labels.csv'\n",
        "df1 = pd.read_csv(train_out)"
      ],
      "metadata": {
        "id": "CehlqJwT-it7"
      },
      "execution_count": 66,
      "outputs": []
    },
    {
      "cell_type": "code",
      "source": [
        "df2 = pd.concat([df, df1], axis=1)"
      ],
      "metadata": {
        "id": "5b97tXHw-iq7"
      },
      "execution_count": 67,
      "outputs": []
    },
    {
      "cell_type": "code",
      "source": [
        "df2['age_group'] = df2['age_group'].replace({'18 - 34 Years': 1, '35 - 44 Years': 2, '45 - 54 Years': 3,'55 - 64 Years':4,'65+ Years':5})\n",
        "df2['education']  = df2['education'].replace({'< 12 Years': 1, '12 Years': 2, 'Some College': 3,'College Graduate':4})\n",
        "df2['income_poverty'] = df2['income_poverty'].replace({'<= $75,000, Above Poverty':3,'> $75,000':2,'Below Poverty':1})"
      ],
      "metadata": {
        "id": "rHd-7L22-inp"
      },
      "execution_count": 117,
      "outputs": []
    },
    {
      "cell_type": "code",
      "source": [
        "cols_to_use  = ['respondent_id', 'xyz_concern', 'xyz_knowledge',\n",
        "       'behavioral_antiviral_meds', 'behavioral_avoidance',\n",
        "       'behavioral_face_mask', 'behavioral_wash_hands',\n",
        "       'behavioral_large_gatherings', 'behavioral_outside_home',\n",
        "       'behavioral_touch_face', 'doctor_recc_xyz', 'doctor_recc_seasonal',\n",
        "       'chronic_med_condition', 'child_under_6_months', 'health_worker',\n",
        "       'health_insurance', 'opinion_xyz_vacc_effective', 'opinion_xyz_risk',\n",
        "       'opinion_xyz_sick_from_vacc', 'opinion_seas_vacc_effective',\n",
        "       'opinion_seas_risk', 'opinion_seas_sick_from_vacc', 'age_group',\n",
        "       'education', 'income_poverty',\n",
        "       'household_adults', 'household_children',\n",
        "      'xyz_vaccine',\n",
        "       'seasonal_vaccine']\n",
        "df3 = df2[cols_to_use]\n"
      ],
      "metadata": {
        "id": "YERgcwUJ-iky"
      },
      "execution_count": 118,
      "outputs": []
    },
    {
      "cell_type": "code",
      "source": [
        "ordinal_features = [\n",
        "    'xyz_concern',\n",
        "    'xyz_knowledge',\n",
        "    'opinion_xyz_vacc_effective',\n",
        "    'opinion_xyz_risk',\n",
        "    'opinion_xyz_sick_from_vacc',\n",
        "    'opinion_seas_vacc_effective',\n",
        "    'opinion_seas_risk',\n",
        "    'opinion_seas_sick_from_vacc',\n",
        "    'age_group',\n",
        "    'income_poverty','education'\n",
        "]\n",
        "for var in ordinal_features:\n",
        "    median = df_test1[var].median()\n",
        "    df3[var].fillna(median, inplace=True)\n",
        ""
      ],
      "metadata": {
        "id": "Smw25SoYMC5W"
      },
      "execution_count": null,
      "outputs": []
    },
    {
      "cell_type": "code",
      "source": [
        "binary_variables = [\n",
        "    'behavioral_antiviral_meds', 'behavioral_avoidance', 'behavioral_face_mask',\n",
        "    'behavioral_wash_hands', 'behavioral_large_gatherings', 'behavioral_outside_home',\n",
        "    'behavioral_touch_face', 'doctor_recc_xyz', 'doctor_recc_seasonal', 'chronic_med_condition',\n",
        "    'child_under_6_months', 'health_worker', 'health_insurance',\n",
        "    'household_adults', 'household_children'\n",
        "]\n",
        "for var in binary_variables:\n",
        "    mode = df_test1[var].mode()[0]\n",
        "    df3[var].fillna(mode, inplace=True)"
      ],
      "metadata": {
        "id": "DZWGRNW_-ihz"
      },
      "execution_count": null,
      "outputs": []
    },
    {
      "cell_type": "code",
      "source": [
        "df3.isnull().sum()"
      ],
      "metadata": {
        "colab": {
          "base_uri": "https://localhost:8080/"
        },
        "id": "F4Y4wE40MkV_",
        "outputId": "c4449d05-0b7a-417a-a08e-5e504b5ba222"
      },
      "execution_count": 131,
      "outputs": [
        {
          "output_type": "execute_result",
          "data": {
            "text/plain": [
              "respondent_id                  0\n",
              "respondent_id                  0\n",
              "xyz_concern                    0\n",
              "xyz_knowledge                  0\n",
              "behavioral_antiviral_meds      0\n",
              "behavioral_avoidance           0\n",
              "behavioral_face_mask           0\n",
              "behavioral_wash_hands          0\n",
              "behavioral_large_gatherings    0\n",
              "behavioral_outside_home        0\n",
              "behavioral_touch_face          0\n",
              "doctor_recc_xyz                0\n",
              "doctor_recc_seasonal           0\n",
              "chronic_med_condition          0\n",
              "child_under_6_months           0\n",
              "health_worker                  0\n",
              "health_insurance               0\n",
              "opinion_xyz_vacc_effective     0\n",
              "opinion_xyz_risk               0\n",
              "opinion_xyz_sick_from_vacc     0\n",
              "opinion_seas_vacc_effective    0\n",
              "opinion_seas_risk              0\n",
              "opinion_seas_sick_from_vacc    0\n",
              "age_group                      0\n",
              "education                      0\n",
              "income_poverty                 0\n",
              "household_adults               0\n",
              "household_children             0\n",
              "xyz_vaccine                    0\n",
              "seasonal_vaccine               0\n",
              "dtype: int64"
            ]
          },
          "metadata": {},
          "execution_count": 131
        }
      ]
    },
    {
      "cell_type": "code",
      "source": [
        "df5 = pd.get_dummies(df3, drop_first=True)"
      ],
      "metadata": {
        "id": "mkL-fHEh-ie5"
      },
      "execution_count": 132,
      "outputs": []
    },
    {
      "cell_type": "code",
      "source": [
        "df5.isnull().sum()"
      ],
      "metadata": {
        "colab": {
          "base_uri": "https://localhost:8080/"
        },
        "id": "upQzq8hLMonW",
        "outputId": "0492c3ee-5c66-410d-eff8-a022357a804d"
      },
      "execution_count": 134,
      "outputs": [
        {
          "output_type": "execute_result",
          "data": {
            "text/plain": [
              "respondent_id                  0\n",
              "respondent_id                  0\n",
              "xyz_concern                    0\n",
              "xyz_knowledge                  0\n",
              "behavioral_antiviral_meds      0\n",
              "behavioral_avoidance           0\n",
              "behavioral_face_mask           0\n",
              "behavioral_wash_hands          0\n",
              "behavioral_large_gatherings    0\n",
              "behavioral_outside_home        0\n",
              "behavioral_touch_face          0\n",
              "doctor_recc_xyz                0\n",
              "doctor_recc_seasonal           0\n",
              "chronic_med_condition          0\n",
              "child_under_6_months           0\n",
              "health_worker                  0\n",
              "health_insurance               0\n",
              "opinion_xyz_vacc_effective     0\n",
              "opinion_xyz_risk               0\n",
              "opinion_xyz_sick_from_vacc     0\n",
              "opinion_seas_vacc_effective    0\n",
              "opinion_seas_risk              0\n",
              "opinion_seas_sick_from_vacc    0\n",
              "age_group                      0\n",
              "education                      0\n",
              "income_poverty                 0\n",
              "household_adults               0\n",
              "household_children             0\n",
              "xyz_vaccine                    0\n",
              "seasonal_vaccine               0\n",
              "dtype: int64"
            ]
          },
          "metadata": {},
          "execution_count": 134
        }
      ]
    },
    {
      "cell_type": "code",
      "source": [
        "X = df5.drop(columns=['respondent_id', 'xyz_vaccine', 'seasonal_vaccine'])\n",
        "y = df5[['xyz_vaccine', 'seasonal_vaccine']]"
      ],
      "metadata": {
        "id": "0kplWgQM-ibq"
      },
      "execution_count": 135,
      "outputs": []
    },
    {
      "cell_type": "code",
      "source": [],
      "metadata": {
        "id": "ZJizn8TXMoTo"
      },
      "execution_count": null,
      "outputs": []
    },
    {
      "cell_type": "code",
      "source": [
        "X_train, X_test, y_train, y_test = train_test_split(X, y, test_size=0.3, random_state=7)\n",
        "from sklearn.preprocessing import StandardScaler\n",
        "scaler=StandardScaler()\n",
        "X_train_scaled=scaler.fit_transform(X_train)\n",
        "X_train_scaled"
      ],
      "metadata": {
        "id": "iwJr1Rsg-iYh"
      },
      "execution_count": null,
      "outputs": []
    },
    {
      "cell_type": "code",
      "source": [
        "from sklearn.linear_model import LinearRegression\n",
        "reg = LinearRegression().fit(X_train, y_train)\n",
        "reg.score(X_test, y_test) # 0.38\n",
        "reg.score(X_train, y_train) #0.36"
      ],
      "metadata": {
        "id": "XmoNENj4-iVp"
      },
      "execution_count": null,
      "outputs": []
    },
    {
      "cell_type": "code",
      "source": [
        "# SO I USED LOGISTIC REGRESSION\n",
        "from sklearn.linear_model import LogisticRegression\n",
        "log_reg = LogisticRegression().fit(X_train, y_train['xyz_vaccine'])\n",
        "# log_reg.score(X_test, y_test['xyz_vaccine'])  0.82 so decent score\n",
        "\n",
        "xyz_predictions = log_reg.predict_proba(X_test)[:,1]\n",
        "print(xyz_predictions)"
      ],
      "metadata": {
        "id": "fJPGeFpP-iSx"
      },
      "execution_count": null,
      "outputs": []
    },
    {
      "cell_type": "code",
      "source": [
        "test_xyz = log_reg.predict_proba(X_test21)[:,1]\n",
        "print(test_xyz)"
      ],
      "metadata": {
        "colab": {
          "base_uri": "https://localhost:8080/"
        },
        "id": "1h9MZNVkMQGQ",
        "outputId": "dc911e27-7d0c-42e8-9c70-0b5373d90d84"
      },
      "execution_count": 126,
      "outputs": [
        {
          "output_type": "stream",
          "name": "stdout",
          "text": [
            "[0.10228737 0.04539359 0.42023812 ... 0.14809559 0.05791805 0.62117282]\n"
          ]
        }
      ]
    },
    {
      "cell_type": "code",
      "source": [
        "from sklearn.linear_model import LogisticRegression\n",
        "log_reg = LogisticRegression().fit(X_train, y_train['seasonal_vaccine'])\n",
        "\n",
        "\n",
        "seasonal_predictions = log_reg.predict_proba(X_test)[:,1]\n",
        "print(seasonal_predictions)"
      ],
      "metadata": {
        "colab": {
          "base_uri": "https://localhost:8080/"
        },
        "id": "Mn6qVUTTFb6d",
        "outputId": "dbf1baa5-be2e-4f74-ef08-4a612355f058"
      },
      "execution_count": 127,
      "outputs": [
        {
          "output_type": "stream",
          "name": "stdout",
          "text": [
            "[0.8611303  0.04844359 0.3974929  ... 0.77015234 0.87502558 0.93014838]\n"
          ]
        }
      ]
    },
    {
      "cell_type": "code",
      "source": [
        "test_seasonal = log_reg.predict_proba(X_test21)[:,1]\n",
        "print(test_seasonal)"
      ],
      "metadata": {
        "colab": {
          "base_uri": "https://localhost:8080/"
        },
        "id": "l3k8gWxoMKhQ",
        "outputId": "0bbf196d-bef3-4008-f460-a10947db9771"
      },
      "execution_count": 128,
      "outputs": [
        {
          "output_type": "stream",
          "name": "stdout",
          "text": [
            "[0.28098402 0.04151242 0.72744196 ... 0.20736404 0.40173195 0.61549273]\n"
          ]
        }
      ]
    },
    {
      "cell_type": "code",
      "source": [
        "roc_auc_xyz = roc_auc_score(y_test['xyz_vaccine'], xyz_predictions)\n",
        "roc_auc_seasonal = roc_auc_score(y_test['seasonal_vaccine'], seasonal_predictions)\n",
        "print(roc_auc_xyz)\n",
        "print(roc_auc_seasonal)"
      ],
      "metadata": {
        "colab": {
          "base_uri": "https://localhost:8080/"
        },
        "id": "XZuACxQ5F3U3",
        "outputId": "93121a52-f1bc-4d37-d0b0-3066b63dc572"
      },
      "execution_count": 129,
      "outputs": [
        {
          "output_type": "stream",
          "name": "stdout",
          "text": [
            "0.8297113650030066\n",
            "0.8432093989565003\n"
          ]
        }
      ]
    },
    {
      "cell_type": "code",
      "source": [
        "final_1  = pd.DataFrame({'respondent_id': df_test1['respondent_id'], 'xyz_vaccine': test_xyz, 'seasonal_vaccine': test_seasonal})\n",
        "final_1.to_csv('final_1.csv', index=False)"
      ],
      "metadata": {
        "id": "BOlbTa0QNNtb"
      },
      "execution_count": 142,
      "outputs": []
    },
    {
      "cell_type": "code",
      "source": [],
      "metadata": {
        "id": "eg_QpPTMEBDt"
      },
      "execution_count": null,
      "outputs": []
    }
  ]
}